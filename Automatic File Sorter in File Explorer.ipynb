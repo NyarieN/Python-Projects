{
 "cells": [
  {
   "cell_type": "code",
   "execution_count": 75,
   "id": "e5342d16-f5bc-4423-b18e-9fd999099951",
   "metadata": {},
   "outputs": [
    {
     "name": "stdout",
     "output_type": "stream",
     "text": [
      "Moved 'PowerBI Project Dataset.xlsx' to 'Excel files' folder.\n",
      "Moved 'Sample Resume.docx' to 'Word files' folder.\n",
      "Moved 'Screenshot (7).png' to 'Image files' folder.\n",
      "Moved 'Screenshot (8).png' to 'Image files' folder.\n",
      "Moved 'TRV4463281_Refund.pdf' to 'PDF files' folder.\n",
      "File organization complete!\n"
     ]
    }
   ],
   "source": [
    "#step one \n",
    "import os\n",
    "import shutil\n",
    "\n",
    "# Define the directory containing the files (Python tut has the files that need organizing)\n",
    "path = r\"C:/Users/NN/Documents/Coding/Python tut/\"\n",
    "\n",
    "# File type categories and folder mapping\n",
    "file_types = {\n",
    "    \"Excel files\": [\".xlsx\"],\n",
    "    \"Word files\": [\".docx\", \".doc\"],\n",
    "    \"Image files\": [\".png\", \".jpg\", \".jpeg\", \".gif\"],\n",
    "    \"PDF files\": [\".pdf\"]\n",
    "}\n",
    "\n",
    "#presents everything (folders and files) in the path in our case in Python tut\n",
    "file_list = os.listdir(path)\n",
    "\n",
    "# Ensure base directory exists\n",
    "if not file_list:\n",
    "    print(f\"Directory '{path}' does not exist.\")\n",
    "else:\n",
    "    # Organize files\n",
    "    for file_name in file_list:  #Iterates through each entry in the directory (file_list).\n",
    "        \n",
    "        file_path = os.path.join(path, file_name) #Combines the directory path and the file name to form the full file path.\n",
    "\n",
    "\n",
    "        \n",
    "        if os.path.isfile(file_path): #Checks if the current entry is a file (not a folder)\n",
    "            \n",
    "            file_extension = os.path.splitext(file_name)[1].lower() #Extracts the file extension from the file name..lower(): Converts the extension to lowercase for uniformity.\n",
    "#The [1] accesses the second element of the tuple, which is the file extension.\n",
    "            \n",
    "            folder_name = file_types.get(file_extension) #Looks up the appropriate folder name for the file extension in the file_types dictionary.\n",
    "\n",
    "            if folder_name: #Ensures the file extension has a matching folder.\n",
    "                folder_path = os.path.join(path, folder_name)\n",
    "                os.makedirs(folder_path, exist_ok=True) #Creates the folder if it doesn't already exist.\n",
    "                \n",
    "                try:\n",
    "                    shutil.move(file_path, os.path.join(folder_path, file_name)) #Moves the file to the appropriate folder.\n",
    "                    print(f\"Moved '{file_name}' to '{folder_name}' folder.\")\n",
    "                except Exception as e:\n",
    "                    print(f\"Error moving file '{file_name}': {e}\")\n",
    "\n",
    "    print(\"File organization complete!\")\n"
   ]
  },
  {
   "cell_type": "code",
   "execution_count": null,
   "id": "05ccca4f-9cf9-4032-be4c-83c6a5211e73",
   "metadata": {},
   "outputs": [],
   "source": []
  },
  {
   "cell_type": "code",
   "execution_count": null,
   "id": "41188ce6-59af-42a9-8142-b7197684b200",
   "metadata": {},
   "outputs": [],
   "source": []
  },
  {
   "cell_type": "code",
   "execution_count": null,
   "id": "f40d3c4c-aa6f-443a-9621-db0ba4d3f417",
   "metadata": {},
   "outputs": [],
   "source": []
  },
  {
   "cell_type": "code",
   "execution_count": null,
   "id": "bbdfd25b-7ea4-4fd9-b008-98d0fd2ac84b",
   "metadata": {},
   "outputs": [],
   "source": []
  },
  {
   "cell_type": "code",
   "execution_count": null,
   "id": "1be00629-150a-4568-8119-303644caef4b",
   "metadata": {},
   "outputs": [],
   "source": []
  },
  {
   "cell_type": "code",
   "execution_count": null,
   "id": "b7741458-bdce-4278-92be-34d0539c32eb",
   "metadata": {},
   "outputs": [],
   "source": []
  },
  {
   "cell_type": "code",
   "execution_count": null,
   "id": "f1cc17fd-f1dc-4876-a03a-a20fb0b141fc",
   "metadata": {},
   "outputs": [],
   "source": []
  },
  {
   "cell_type": "code",
   "execution_count": null,
   "id": "6550767c-3a99-42a1-afda-d80e8a751d61",
   "metadata": {},
   "outputs": [],
   "source": []
  },
  {
   "cell_type": "code",
   "execution_count": null,
   "id": "b98fbf27-4933-4b27-9095-352c8fb9855a",
   "metadata": {},
   "outputs": [],
   "source": []
  },
  {
   "cell_type": "code",
   "execution_count": null,
   "id": "00b4412d-1ad7-44e1-9e5d-edbb547529ec",
   "metadata": {},
   "outputs": [],
   "source": []
  },
  {
   "cell_type": "code",
   "execution_count": null,
   "id": "abd3978f-c093-4718-87a4-a6a35fe28abb",
   "metadata": {},
   "outputs": [],
   "source": []
  },
  {
   "cell_type": "code",
   "execution_count": null,
   "id": "4a05c19e-9954-42ea-bf83-c9c20a5ba6d6",
   "metadata": {},
   "outputs": [],
   "source": []
  },
  {
   "cell_type": "code",
   "execution_count": null,
   "id": "6f6b0920-3297-4865-b6f8-10c0d9c18272",
   "metadata": {},
   "outputs": [],
   "source": []
  }
 ],
 "metadata": {
  "kernelspec": {
   "display_name": "Python [conda env:base] *",
   "language": "python",
   "name": "conda-base-py"
  },
  "language_info": {
   "codemirror_mode": {
    "name": "ipython",
    "version": 3
   },
   "file_extension": ".py",
   "mimetype": "text/x-python",
   "name": "python",
   "nbconvert_exporter": "python",
   "pygments_lexer": "ipython3",
   "version": "3.12.7"
  }
 },
 "nbformat": 4,
 "nbformat_minor": 5
}
