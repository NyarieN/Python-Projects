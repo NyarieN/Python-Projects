{
 "cells": [
  {
   "cell_type": "code",
   "execution_count": null,
   "id": "aa6c89f0-b2b0-4b1d-ad03-d6d0b783bf51",
   "metadata": {},
   "outputs": [],
   "source": [
    "#BMI CALCULATOR BMI = (weight in pounds x 703) / (height in inches x height in inches)"
   ]
  },
  {
   "cell_type": "code",
   "execution_count": 18,
   "id": "6778bd30-a579-437a-a72f-3ac01147fc35",
   "metadata": {},
   "outputs": [
    {
     "name": "stdin",
     "output_type": "stream",
     "text": [
      "Enter your name:  nyarie\n",
      "Enter your weight in pounds :  170\n",
      "Enter your height in pounds :  69\n"
     ]
    },
    {
     "name": "stdout",
     "output_type": "stream",
     "text": [
      "25.101869355177485\n",
      "nyarie you are Overweight\n"
     ]
    }
   ],
   "source": [
    "name = input(\"Enter your name: \")\n",
    "weight = int(input(\"Enter your weight in pounds : \"))\n",
    "height = int(input(\"Enter your height in pounds : \"))\n",
    "BMI = (weight * 703) / (height  * height )\n",
    "print(BMI)\n",
    "\n",
    "if BMI > 0 :\n",
    "    if BMI < 18.5:\n",
    "        print (name + \" you are Underweight\")\n",
    "    elif BMI <= 24.9:\n",
    "        print (name + \" you are Normal weight\")\n",
    "    elif BMI <= 29.9:\n",
    "        print (name + \" you are Overweight\")\n",
    "    elif BMI <= 34.9:\n",
    "        print (name + \" you are Obese\")\n",
    "    elif BMI <= 39.9:\n",
    "        print (name + \" you are Serverly Obese\")\n",
    "    elif BMI > 40:\n",
    "        print (name + \" you are extremely Obese\")\n",
    "else:\n",
    "    print(\"Please enter a valid value\")"
   ]
  },
  {
   "cell_type": "code",
   "execution_count": null,
   "id": "6224c892-ffa4-4a96-9e34-30823bea620b",
   "metadata": {},
   "outputs": [],
   "source": [
    "\n",
    "    \n",
    "    "
   ]
  },
  {
   "cell_type": "code",
   "execution_count": null,
   "id": "3830ffcc-2a7d-4ae3-827c-d36f7451bb0a",
   "metadata": {},
   "outputs": [],
   "source": []
  },
  {
   "cell_type": "code",
   "execution_count": null,
   "id": "d276b3d8-e8ef-49c1-8d9d-d8c10747fb8c",
   "metadata": {},
   "outputs": [],
   "source": []
  },
  {
   "cell_type": "code",
   "execution_count": null,
   "id": "01467bf8-6508-4a44-8472-b0f7384270c7",
   "metadata": {},
   "outputs": [],
   "source": []
  },
  {
   "cell_type": "code",
   "execution_count": null,
   "id": "444ceb32-d5d3-47eb-a2a8-6a0ccc701aa0",
   "metadata": {},
   "outputs": [],
   "source": []
  },
  {
   "cell_type": "code",
   "execution_count": null,
   "id": "883a2f41-1e65-4442-8be8-ec97ced7a74a",
   "metadata": {},
   "outputs": [],
   "source": []
  },
  {
   "cell_type": "code",
   "execution_count": null,
   "id": "09262b6d-aa1b-462d-8f18-18247dc2c4b6",
   "metadata": {},
   "outputs": [],
   "source": []
  },
  {
   "cell_type": "code",
   "execution_count": null,
   "id": "998498a6-e822-4888-b91f-f372310f7a60",
   "metadata": {},
   "outputs": [],
   "source": []
  },
  {
   "cell_type": "code",
   "execution_count": null,
   "id": "5bcfde36-e841-46d6-ae08-ecce4a53a3c0",
   "metadata": {},
   "outputs": [],
   "source": []
  },
  {
   "cell_type": "code",
   "execution_count": null,
   "id": "cb862499-fb96-4298-90de-24d744c48bc0",
   "metadata": {},
   "outputs": [],
   "source": []
  },
  {
   "cell_type": "code",
   "execution_count": null,
   "id": "3a33077b-6969-407c-abd8-7ff7d4c83daa",
   "metadata": {},
   "outputs": [],
   "source": []
  },
  {
   "cell_type": "code",
   "execution_count": null,
   "id": "e2f6f6a8-18af-43f9-ae75-f11938fafef5",
   "metadata": {},
   "outputs": [],
   "source": []
  },
  {
   "cell_type": "code",
   "execution_count": null,
   "id": "d87c341c-2563-4ea0-9222-b6ba7e29b6c8",
   "metadata": {},
   "outputs": [],
   "source": []
  },
  {
   "cell_type": "code",
   "execution_count": null,
   "id": "a120bae4-579f-4206-a4c5-cd5971bec6a7",
   "metadata": {},
   "outputs": [],
   "source": []
  },
  {
   "cell_type": "code",
   "execution_count": null,
   "id": "81bd379f-b784-4b84-863e-9da16da122fe",
   "metadata": {},
   "outputs": [],
   "source": []
  },
  {
   "cell_type": "code",
   "execution_count": null,
   "id": "3912df1d-bfad-4f05-a2ba-ed143280ff84",
   "metadata": {},
   "outputs": [],
   "source": []
  },
  {
   "cell_type": "code",
   "execution_count": null,
   "id": "4b4c5e1d-6c81-4b53-acf8-c1f45fd1b86b",
   "metadata": {},
   "outputs": [],
   "source": []
  },
  {
   "cell_type": "code",
   "execution_count": null,
   "id": "46746329-b68b-4736-8d52-9e278806334f",
   "metadata": {},
   "outputs": [],
   "source": []
  }
 ],
 "metadata": {
  "kernelspec": {
   "display_name": "Python [conda env:base] *",
   "language": "python",
   "name": "conda-base-py"
  },
  "language_info": {
   "codemirror_mode": {
    "name": "ipython",
    "version": 3
   },
   "file_extension": ".py",
   "mimetype": "text/x-python",
   "name": "python",
   "nbconvert_exporter": "python",
   "pygments_lexer": "ipython3",
   "version": "3.12.7"
  }
 },
 "nbformat": 4,
 "nbformat_minor": 5
}
